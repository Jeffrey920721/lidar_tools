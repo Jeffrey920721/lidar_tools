{
 "cells": [
  {
   "cell_type": "code",
   "execution_count": null,
   "metadata": {
    "collapsed": true
   },
   "outputs": [],
   "source": [
    "# Hello, and thanks in advance for any help you can offer!"
   ]
  },
  {
   "cell_type": "markdown",
   "metadata": {},
   "source": [
    "# Configs"
   ]
  },
  {
   "cell_type": "code",
   "execution_count": 1,
   "metadata": {
    "collapsed": true
   },
   "outputs": [],
   "source": [
    "import pandas as pd\n",
    "from matplotlib import pyplot as plt\n",
    "import numpy as np\n",
    "import datetime\n",
    "import scipy.ndimage\n",
    "from scipy.ndimage.interpolation import rotate"
   ]
  },
  {
   "cell_type": "code",
   "execution_count": 2,
   "metadata": {
    "collapsed": true
   },
   "outputs": [],
   "source": [
    "%matplotlib inline"
   ]
  },
  {
   "cell_type": "code",
   "execution_count": 3,
   "metadata": {
    "collapsed": true
   },
   "outputs": [],
   "source": [
    "plt.style.use('classic')\n",
    "\n",
    "plt.rcParams['figure.figsize'] = (12,6)\n",
    "plt.rcParams['image.cmap'] = 'jet'\n",
    "plt.rcParams['figure.dpi'] = 100\n",
    "plt.rcParams['font.size'] = 14\n",
    "plt.rcParams['font.family'] = 'Serif'\n",
    "plt.rcParams['figure.facecolor'] = 'white'\n",
    "plt.rcParams['axes.facecolor'] = 'white'\n",
    "plt.rcParams['axes.grid'] = True"
   ]
  },
  {
   "cell_type": "markdown",
   "metadata": {},
   "source": [
    "# Data Processing"
   ]
  },
  {
   "cell_type": "code",
   "execution_count": 4,
   "metadata": {
    "collapsed": true
   },
   "outputs": [],
   "source": [
    "# Load in small portion of the dataset. Filtering has already been done\n",
    "df_ws = pd.read_hdf('small_dataset.hdf', 'df')"
   ]
  },
  {
   "cell_type": "code",
   "execution_count": 5,
   "metadata": {},
   "outputs": [],
   "source": [
    "df_ws = df_ws.rename(columns={5: 'dt_stop', 6: 'azim', 7: 'elev'})\n",
    "range_gates = df_ws.iloc[0:1,8::4].values[0].tolist()"
   ]
  },
  {
   "cell_type": "code",
   "execution_count": 6,
   "metadata": {},
   "outputs": [
    {
     "data": {
      "text/html": [
       "<div>\n",
       "<style>\n",
       "    .dataframe thead tr:only-child th {\n",
       "        text-align: right;\n",
       "    }\n",
       "\n",
       "    .dataframe thead th {\n",
       "        text-align: left;\n",
       "    }\n",
       "\n",
       "    .dataframe tbody tr th {\n",
       "        vertical-align: top;\n",
       "    }\n",
       "</style>\n",
       "<table border=\"1\" class=\"dataframe\">\n",
       "  <thead>\n",
       "    <tr style=\"text-align: right;\">\n",
       "      <th></th>\n",
       "      <th>0</th>\n",
       "      <th>1</th>\n",
       "      <th>2</th>\n",
       "      <th>3</th>\n",
       "      <th>4</th>\n",
       "      <th>dt_stop</th>\n",
       "      <th>azim</th>\n",
       "      <th>elev</th>\n",
       "      <th>8</th>\n",
       "      <th>9</th>\n",
       "      <th>...</th>\n",
       "      <th>786</th>\n",
       "      <th>787</th>\n",
       "      <th>788</th>\n",
       "      <th>789</th>\n",
       "      <th>790</th>\n",
       "      <th>791</th>\n",
       "      <th>792</th>\n",
       "      <th>793</th>\n",
       "      <th>794</th>\n",
       "      <th>795</th>\n",
       "    </tr>\n",
       "  </thead>\n",
       "  <tbody>\n",
       "    <tr>\n",
       "      <th>0</th>\n",
       "      <td>0</td>\n",
       "      <td>0</td>\n",
       "      <td>0</td>\n",
       "      <td>462</td>\n",
       "      <td>3.593519e+09</td>\n",
       "      <td>3.593519e+09</td>\n",
       "      <td>250.448</td>\n",
       "      <td>-0.0</td>\n",
       "      <td>80</td>\n",
       "      <td>-7.833</td>\n",
       "      <td>...</td>\n",
       "      <td>-29.544</td>\n",
       "      <td>0.165</td>\n",
       "      <td>3980</td>\n",
       "      <td>NaN</td>\n",
       "      <td>-29.918</td>\n",
       "      <td>0.165</td>\n",
       "      <td>4000</td>\n",
       "      <td>NaN</td>\n",
       "      <td>-32.842</td>\n",
       "      <td>0.165</td>\n",
       "    </tr>\n",
       "    <tr>\n",
       "      <th>1</th>\n",
       "      <td>0</td>\n",
       "      <td>1</td>\n",
       "      <td>465</td>\n",
       "      <td>482</td>\n",
       "      <td>3.593519e+09</td>\n",
       "      <td>3.593519e+09</td>\n",
       "      <td>251.449</td>\n",
       "      <td>-0.0</td>\n",
       "      <td>80</td>\n",
       "      <td>-7.446</td>\n",
       "      <td>...</td>\n",
       "      <td>-30.696</td>\n",
       "      <td>0.165</td>\n",
       "      <td>3980</td>\n",
       "      <td>NaN</td>\n",
       "      <td>-30.593</td>\n",
       "      <td>0.165</td>\n",
       "      <td>4000</td>\n",
       "      <td>NaN</td>\n",
       "      <td>-29.513</td>\n",
       "      <td>0.165</td>\n",
       "    </tr>\n",
       "    <tr>\n",
       "      <th>2</th>\n",
       "      <td>0</td>\n",
       "      <td>2</td>\n",
       "      <td>484</td>\n",
       "      <td>501</td>\n",
       "      <td>3.593519e+09</td>\n",
       "      <td>3.593519e+09</td>\n",
       "      <td>252.448</td>\n",
       "      <td>0.0</td>\n",
       "      <td>80</td>\n",
       "      <td>-7.627</td>\n",
       "      <td>...</td>\n",
       "      <td>-26.366</td>\n",
       "      <td>0.782</td>\n",
       "      <td>3980</td>\n",
       "      <td>NaN</td>\n",
       "      <td>-28.595</td>\n",
       "      <td>0.165</td>\n",
       "      <td>4000</td>\n",
       "      <td>NaN</td>\n",
       "      <td>-26.991</td>\n",
       "      <td>1.433</td>\n",
       "    </tr>\n",
       "    <tr>\n",
       "      <th>3</th>\n",
       "      <td>0</td>\n",
       "      <td>3</td>\n",
       "      <td>503</td>\n",
       "      <td>521</td>\n",
       "      <td>3.593519e+09</td>\n",
       "      <td>3.593519e+09</td>\n",
       "      <td>253.446</td>\n",
       "      <td>-0.0</td>\n",
       "      <td>80</td>\n",
       "      <td>-7.967</td>\n",
       "      <td>...</td>\n",
       "      <td>-27.045</td>\n",
       "      <td>0.935</td>\n",
       "      <td>3980</td>\n",
       "      <td>NaN</td>\n",
       "      <td>-26.919</td>\n",
       "      <td>0.576</td>\n",
       "      <td>4000</td>\n",
       "      <td>NaN</td>\n",
       "      <td>-25.096</td>\n",
       "      <td>1.457</td>\n",
       "    </tr>\n",
       "    <tr>\n",
       "      <th>4</th>\n",
       "      <td>0</td>\n",
       "      <td>4</td>\n",
       "      <td>523</td>\n",
       "      <td>542</td>\n",
       "      <td>3.593519e+09</td>\n",
       "      <td>3.593519e+09</td>\n",
       "      <td>254.445</td>\n",
       "      <td>0.0</td>\n",
       "      <td>80</td>\n",
       "      <td>-8.001</td>\n",
       "      <td>...</td>\n",
       "      <td>-29.311</td>\n",
       "      <td>0.576</td>\n",
       "      <td>3980</td>\n",
       "      <td>NaN</td>\n",
       "      <td>-28.705</td>\n",
       "      <td>0.165</td>\n",
       "      <td>4000</td>\n",
       "      <td>NaN</td>\n",
       "      <td>-31.377</td>\n",
       "      <td>0.165</td>\n",
       "    </tr>\n",
       "  </tbody>\n",
       "</table>\n",
       "<p>5 rows × 796 columns</p>\n",
       "</div>"
      ],
      "text/plain": [
       "   0  1    2    3             4       dt_stop     azim  elev   8      9  \\\n",
       "0  0  0    0  462  3.593519e+09  3.593519e+09  250.448  -0.0  80 -7.833   \n",
       "1  0  1  465  482  3.593519e+09  3.593519e+09  251.449  -0.0  80 -7.446   \n",
       "2  0  2  484  501  3.593519e+09  3.593519e+09  252.448   0.0  80 -7.627   \n",
       "3  0  3  503  521  3.593519e+09  3.593519e+09  253.446  -0.0  80 -7.967   \n",
       "4  0  4  523  542  3.593519e+09  3.593519e+09  254.445   0.0  80 -8.001   \n",
       "\n",
       "   ...       786    787   788  789     790    791   792  793     794    795  \n",
       "0  ...   -29.544  0.165  3980  NaN -29.918  0.165  4000  NaN -32.842  0.165  \n",
       "1  ...   -30.696  0.165  3980  NaN -30.593  0.165  4000  NaN -29.513  0.165  \n",
       "2  ...   -26.366  0.782  3980  NaN -28.595  0.165  4000  NaN -26.991  1.433  \n",
       "3  ...   -27.045  0.935  3980  NaN -26.919  0.576  4000  NaN -25.096  1.457  \n",
       "4  ...   -29.311  0.576  3980  NaN -28.705  0.165  4000  NaN -31.377  0.165  \n",
       "\n",
       "[5 rows x 796 columns]"
      ]
     },
     "execution_count": 6,
     "metadata": {},
     "output_type": "execute_result"
    }
   ],
   "source": [
    "# Columns represent radial distance. Rows represent angle. Value represents radial speed\n",
    "# Angles repeat every 30 lines\n",
    "df_ws.head()"
   ]
  },
  {
   "cell_type": "code",
   "execution_count": 7,
   "metadata": {
    "collapsed": true
   },
   "outputs": [],
   "source": [
    "# Get the list of azimuths for each 30 line scan\n",
    "df = df_ws.iloc[0:30]\n",
    "azims = df['azim'].tolist()\n",
    "azims = np.round(azims, 3)"
   ]
  },
  {
   "cell_type": "code",
   "execution_count": 8,
   "metadata": {},
   "outputs": [
    {
     "data": {
      "text/plain": [
       "array([250.448, 251.449, 252.448, 253.446, 254.445, 255.445, 256.447,\n",
       "       257.445, 258.446, 259.445, 260.446, 261.446, 262.445, 263.446,\n",
       "       264.447, 265.446, 266.447, 267.446, 268.447, 269.447, 270.446,\n",
       "       271.447, 272.446, 273.447, 274.447, 275.447, 276.447, 277.446,\n",
       "       278.447, 279.447])"
      ]
     },
     "execution_count": 8,
     "metadata": {},
     "output_type": "execute_result"
    }
   ],
   "source": [
    "# The angles are in meteorological degrees (0 deg. = North)\n",
    "azims"
   ]
  },
  {
   "cell_type": "code",
   "execution_count": 9,
   "metadata": {
    "collapsed": true
   },
   "outputs": [],
   "source": [
    "# Discard the columns we don't need for analysis. Take absolute value of the speeds\n",
    "df_rs = df_ws[df_ws.columns[9::4]]\n",
    "df_rs = df_rs.abs()\n",
    "df_rs.columns = range_gates"
   ]
  },
  {
   "cell_type": "markdown",
   "metadata": {},
   "source": [
    "# Functions"
   ]
  },
  {
   "cell_type": "code",
   "execution_count": 10,
   "metadata": {},
   "outputs": [],
   "source": [
    "# Function to convert labview to datetime stamp\n",
    "# Time is stamped at beginning of 10min period in UTC format\n",
    "def convtime(labviewtime):\n",
    "    unixtime = labviewtime - 2082844800\n",
    "    timestamp = datetime.datetime.utcfromtimestamp(int(unixtime)) - pd.Timedelta(minutes=10)\n",
    "    # + pd.Timedelta(hours=1) \n",
    "    return timestamp"
   ]
  },
  {
   "cell_type": "code",
   "execution_count": 11,
   "metadata": {
    "collapsed": true
   },
   "outputs": [],
   "source": [
    "# Function to plot a PPI image from polar coordinates, on polar axis\n",
    "def plot_ppi(los_start=0, minscale=-20, maxscale=20, scalestep=1, cmap='seismic', cbar_bool=False):\n",
    "    if los_start % 30 != 0:\n",
    "        print('warning! los_start should be a multiple of 30')\n",
    "    df = df_ws.iloc[los_start:los_start+30]\n",
    "    timestamp = convtime(df.iloc[-1]['dt_stop']).strftime(\"%Y-%m-%d %H:%M:%S\")\n",
    "    range_gates = df.iloc[0:1,8::4].values[0].tolist()\n",
    "    azims = df['azim'].tolist()\n",
    "    azimuths = np.radians(azims)\n",
    "    zeniths = range_gates\n",
    "    r, theta = np.meshgrid(zeniths, azimuths)\n",
    "    values = df[df.columns[9::4]]\n",
    "    \n",
    "    f = plt.figure(dpi=200)\n",
    "    plt.tight_layout(pad=0)\n",
    "    ax = plt.subplot(111, polar=True)\n",
    "        \n",
    "    pp = plt.contourf(theta, r, values, vmin=minscale, vmax=maxscale, cmap=cmap, levels=np.arange(minscale,maxscale,scalestep))\n",
    "    ax.set_theta_zero_location(\"N\")\n",
    "    plt.colorbar()\n",
    "    if cbar_bool is True:\n",
    "        cbar = plt.colorbar(pp, orientation='vertical')\n",
    "        cbar.ax.set_ylabel('radial speed (m/s)')\n",
    "    ax.grid(False)\n",
    "    plt.axis('off')\n",
    "    ax.set_theta_direction(-1)\n",
    "    ax.spines['polar'].set_visible(False)\n",
    "    plt.annotate(xy=(5.05,3500), s=('PPI Plot at: ' + timestamp), fontsize=10)\n",
    "    \n",
    "    #return plt.gcf()"
   ]
  },
  {
   "cell_type": "code",
   "execution_count": 36,
   "metadata": {
    "collapsed": true
   },
   "outputs": [],
   "source": [
    "def polar2cartesian(outcoords, inputshape, origin, angular_width=30):\n",
    "    # Modified from ptomato on stack overflow. Thanks!\n",
    "    xindex, yindex = outcoords\n",
    "    x0, y0 = origin\n",
    "    x = xindex - x0\n",
    "    y = yindex - y0\n",
    "\n",
    "    r = np.sqrt(x**2 + y**2)\n",
    "    theta = np.arctan2(y, x)\n",
    "    #theta_index = np.round((theta + np.pi) * inputshape[1] / (2 * np.pi))\n",
    "    # Allows us to define our transformation size if not a full PPI\n",
    "    theta_index = np.round((theta + np.pi) * inputshape[1] / (np.pi/(180/angular_width)))\n",
    "\n",
    "    return (r,theta_index)"
   ]
  },
  {
   "cell_type": "code",
   "execution_count": 63,
   "metadata": {
    "collapsed": true
   },
   "outputs": [],
   "source": [
    "# Transform coordinate systems from polar to cartesian and plot image\n",
    "# Input is the starting line of sight number. Outputs is an image, and re-gridded data is returned\n",
    "def conv_pol_cart_image(los_start=0, order=0, title='PPI', cmap='hot_r', vmin=-20, vmax=20, interp='None'):\n",
    "    if los_start % 30 != 0:\n",
    "        print('warning! los_start should be a multiple of 30')\n",
    "    \n",
    "    df_polar = df_ws.iloc[los_start:los_start+30][df_ws.columns[9::4]]\n",
    "    #df_polar = df_polar.abs()\n",
    "    df_polar = df_polar.set_index(azims)\n",
    "\n",
    "    df_polar_cart = scipy.ndimage.geometric_transform(df_polar, polar2cartesian, \n",
    "    order=order,\n",
    "    output_shape = (df_polar.shape[0] * 2, df_polar.shape[0] * 2),\n",
    "    extra_keywords = {'inputshape':df_polar.shape,\n",
    "        'origin':(df_polar.shape[0], df_polar.shape[0])})\n",
    "    \n",
    "    # Rotate our dataframe so that it's the right way around\n",
    "    # This doesn't seem to work with NaNs\n",
    "    #df_polar_cart = rotate(df_polar_cart, 60)\n",
    "    # 90 degree turn is good enough for now\n",
    "    df_polar_cart = np.rot90(df_polar_cart)\n",
    "    \n",
    "    # Convert np ndarray to pd dataframe\n",
    "    df_polar_cart = pd.DataFrame(df_polar_cart)\n",
    "    \n",
    "    f = plt.figure()\n",
    "    plt.axis('off')\n",
    "    plt.title(title)\n",
    "    plt.imshow(df_polar_cart, cmap=cmap, vmin=vmin, vmax=vmax, interpolation=interp, origin='upper')\n",
    "    plt.colorbar()\n",
    "    plt.show()\n",
    "    return df_polar_cart"
   ]
  },
  {
   "cell_type": "markdown",
   "metadata": {},
   "source": [
    "# Plot PPI in Polar"
   ]
  },
  {
   "cell_type": "code",
   "execution_count": 67,
   "metadata": {
    "scrolled": false
   },
   "outputs": [
    {
     "data": {
      "image/png": "[encoded data removed]",
      "text/plain": [
       "<matplotlib.figure.Figure at 0xb0151421d0>"
      ]
     },
     "metadata": {},
     "output_type": "display_data"
    }
   ],
   "source": [
    "# This comes out correctly (except all the extra whitespace..)\n",
    "# I need it in cartesian coordinates though for my analysis\n",
    "plot_ppi(los_start = 0)"
   ]
  },
  {
   "cell_type": "markdown",
   "metadata": {},
   "source": [
    "# PPI Plot in Cartesian"
   ]
  },
  {
   "cell_type": "code",
   "execution_count": 69,
   "metadata": {},
   "outputs": [
    {
     "data": {
      "image/png": "[encoded data removed]",
      "text/plain": [
       "<matplotlib.figure.Figure at 0xb015719588>"
      ]
     },
     "metadata": {},
     "output_type": "display_data"
    }
   ],
   "source": [
    "# Convert coordinate system and plot new dataframe\n",
    "# Looks pretty bad, even when interpolation is on\n",
    "df_cart = conv_pol_cart_image(los_start = 0, order=1, cmap='seismic', interp='bilinear')"
   ]
  },
  {
   "cell_type": "code",
   "execution_count": 71,
   "metadata": {},
   "outputs": [
    {
     "name": "stdout",
     "output_type": "stream",
     "text": [
      "(60, 60)\n",
      "(30, 197)\n"
     ]
    }
   ],
   "source": [
    "print(df_cart.shape)\n",
    "print(df_rs.iloc[0:30].shape)"
   ]
  },
  {
   "cell_type": "code",
   "execution_count": 89,
   "metadata": {},
   "outputs": [
    {
     "data": {
      "text/plain": [
       "188"
      ]
     },
     "execution_count": 89,
     "metadata": {},
     "output_type": "execute_result"
    }
   ],
   "source": [
    "# Number of valid points in cartesian regrid\n",
    "pd.Series(np.ravel(df_cart[df_cart != 0])).dropna().shape[0]"
   ]
  },
  {
   "cell_type": "code",
   "execution_count": 100,
   "metadata": {},
   "outputs": [
    {
     "data": {
      "text/plain": [
       "5364"
      ]
     },
     "execution_count": 100,
     "metadata": {},
     "output_type": "execute_result"
    }
   ],
   "source": [
    "# Total number of points in original data\n",
    "pd.Series(np.ravel(df_rs.iloc[0:30])).dropna().shape[0]"
   ]
  },
  {
   "cell_type": "code",
   "execution_count": 105,
   "metadata": {},
   "outputs": [],
   "source": [
    "# Any suggestions for how to correct?\n",
    "# Thanks again!"
   ]
  }
 ],
 "metadata": {
  "kernelspec": {
   "display_name": "Python 3",
   "language": "python",
   "name": "python3"
  },
  "language_info": {
   "codemirror_mode": {
    "name": "ipython",
    "version": 3
   },
   "file_extension": ".py",
   "mimetype": "text/x-python",
   "name": "python",
   "nbconvert_exporter": "python",
   "pygments_lexer": "ipython3",
   "version": "3.6.1"
  }
 },
 "nbformat": 4,
 "nbformat_minor": 2
}
