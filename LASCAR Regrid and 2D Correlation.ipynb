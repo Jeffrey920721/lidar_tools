{
 "cells": [
  {
   "cell_type": "code",
   "execution_count": null,
   "metadata": {
    "collapsed": true
   },
   "outputs": [],
   "source": [
    "#!/usr/bin/python\n",
    "\n",
    "__author__ = 'Elliot Simon'\n",
    "__email__ = 'ellsim@dtu.dk'\n",
    "__date__ = 'April 10, 2018'\n",
    "__credits__ = [\"DTU-Risø\", \"NCAR\"]"
   ]
  },
  {
   "cell_type": "markdown",
   "metadata": {
    "heading_collapsed": true
   },
   "source": [
    "## Configs"
   ]
  },
  {
   "cell_type": "code",
   "execution_count": 104,
   "metadata": {
    "collapsed": true,
    "hidden": true
   },
   "outputs": [],
   "source": [
    "import pandas as pd\n",
    "from matplotlib import pyplot as plt\n",
    "import numpy as np\n",
    "import datetime\n",
    "import matplotlib.image as mpimg\n",
    "from ipywidgets import interact, IntSlider, Dropdown, Checkbox\n",
    "from scipy import signal\n",
    "import cv2\n",
    "import scipy.ndimage\n",
    "from scipy.ndimage.interpolation import rotate"
   ]
  },
  {
   "cell_type": "code",
   "execution_count": 3,
   "metadata": {
    "collapsed": true,
    "hidden": true
   },
   "outputs": [],
   "source": [
    "#%matplotlib notebook\n",
    "%matplotlib inline"
   ]
  },
  {
   "cell_type": "code",
   "execution_count": 147,
   "metadata": {
    "collapsed": true,
    "hidden": true
   },
   "outputs": [],
   "source": [
    "plt.style.use('classic')\n",
    "\n",
    "plt.rcParams['figure.figsize'] = (12,6)\n",
    "plt.rcParams['image.cmap'] = 'jet'\n",
    "plt.rcParams['figure.dpi'] = 100\n",
    "plt.rcParams['font.size'] = 14\n",
    "plt.rcParams['font.family'] = 'Serif'\n",
    "plt.rcParams['figure.facecolor'] = 'white'\n",
    "plt.rcParams['axes.facecolor'] = 'white'\n",
    "plt.rcParams['axes.grid'] = True\n",
    "plt.rcParams['figure.facecolor'] = 'white'\n",
    "plt.rcParams['agg.path.chunksize'] = 10000\n",
    "plt.rcParams['xtick.major.pad']='8'\n",
    "plt.rcParams['ytick.major.pad']='8'"
   ]
  },
  {
   "cell_type": "markdown",
   "metadata": {
    "heading_collapsed": true
   },
   "source": [
    "## Function definitions"
   ]
  },
  {
   "cell_type": "code",
   "execution_count": 5,
   "metadata": {
    "collapsed": true,
    "hidden": true
   },
   "outputs": [],
   "source": [
    "# Function to get the starting column number for a specific range gate\n",
    "def get_col_num(range_gate):\n",
    "    colnum = int((((range_gate - 80)/20)*4)+8)\n",
    "    return colnum"
   ]
  },
  {
   "cell_type": "code",
   "execution_count": 6,
   "metadata": {
    "collapsed": true,
    "hidden": true
   },
   "outputs": [],
   "source": [
    "# Function to convert labview to datetime stamp\n",
    "# Time is stamped at beginning of 10min period in UTC format!!!\n",
    "def convtime(labviewtime):\n",
    "    unixtime = labviewtime - 2082844800\n",
    "    timestamp = datetime.datetime.utcfromtimestamp(int(unixtime)) - pd.Timedelta(minutes=10)\n",
    "    # + pd.Timedelta(hours=1) \n",
    "    return timestamp"
   ]
  },
  {
   "cell_type": "code",
   "execution_count": 7,
   "metadata": {
    "code_folding": [],
    "collapsed": true,
    "hidden": true
   },
   "outputs": [],
   "source": [
    "# Function to plot a flattened PPI image from polar coordinates\n",
    "def plot_ppi(los_start=0, minscale=-20, maxscale=20, scalestep=1, cmap='seismic', cbar_bool=False):\n",
    "    if los_start % 30 != 0:\n",
    "        print('warning! los_start should be a multiple of 30')\n",
    "    df = df_ws.iloc[los_start:los_start+30]\n",
    "    timestamp = convtime(df.iloc[-1]['dt_stop']).strftime(\"%Y-%m-%d %H:%M:%S\")\n",
    "    range_gates = df.iloc[0:1,8::4].values[0].tolist()\n",
    "    azims = df['azim'].tolist()\n",
    "    azimuths = np.radians(azims)\n",
    "    zeniths = range_gates\n",
    "    r, theta = np.meshgrid(zeniths, azimuths)\n",
    "    values = df[df.columns[9::4]]\n",
    "    \n",
    "    f = plt.figure(dpi=200)  # Size\n",
    "    plt.tight_layout(pad=0)\n",
    "    ax = plt.subplot(111, polar=True)  # Create subplot\n",
    "        \n",
    "    pp = plt.contourf(theta, r, values, vmin=minscale, vmax=maxscale, cmap=cmap, levels=np.arange(minscale,maxscale,scalestep))\n",
    "    ax.set_theta_zero_location(\"N\")\n",
    "    if cbar_bool is True:\n",
    "        cbar = plt.colorbar(pp, orientation='vertical')\n",
    "        cbar.ax.set_ylabel('radial speed (m/s)')\n",
    "    #plt.grid(color='#888888')\n",
    "    ax.grid(False)\n",
    "    plt.axis('off')\n",
    "    ax.set_theta_direction(-1)\n",
    "    #ax.set_xticklabels(['N', 'NE', 'E', 'SE', 'S', 'SW', 'W', 'NW'], color='#666666', fontsize=8)\n",
    "    ax.spines['polar'].set_visible(False)\n",
    "    plt.annotate(xy=(5.05,3500), s=('PPI Plot at: ' + timestamp), fontsize=10)\n",
    "    \n",
    "    plt.savefig('.\\\\temp\\\\' + str(los_start) + '.png', tight_layout=True, pad=0)\n",
    "    plt.close('all')\n",
    "    \n",
    "    im = mpimg.imread('.\\\\temp\\\\' + str(los_start) + '.png')\n",
    "    im_crop = crop_image(im)\n",
    "    \n",
    "    return im_crop"
   ]
  },
  {
   "cell_type": "code",
   "execution_count": 8,
   "metadata": {
    "collapsed": true,
    "hidden": true
   },
   "outputs": [],
   "source": [
    "# Function to crop PPI image to remove whitespace\n",
    "# Need to re-write this implementation, it's horribly inefficient\n",
    "def crop_image(im):\n",
    "    x_min = 350\n",
    "    x_max = 650\n",
    "    y_min = 200\n",
    "    y_max = 400\n",
    "    \n",
    "    return im[y_min:y_max,x_min:x_max]"
   ]
  },
  {
   "cell_type": "code",
   "execution_count": 9,
   "metadata": {
    "collapsed": true,
    "hidden": true
   },
   "outputs": [],
   "source": [
    "# Simple conversion between polar and cartesian\n",
    "def pol2cart(theta, rho):\n",
    "    theta = np.radians(theta)\n",
    "    x = rho * np.cos(theta)\n",
    "    y = rho * np.sin(theta)\n",
    "    return x, y"
   ]
  },
  {
   "cell_type": "code",
   "execution_count": 34,
   "metadata": {
    "collapsed": true,
    "hidden": true
   },
   "outputs": [],
   "source": [
    "# Backend for 2D-xcorr widget\n",
    "def plot_2d_xcorr(scan1, scan2, boundary, mode, plot_ppi_bool, title, regrid_bool):\n",
    "    # Determine if we should re-grid or not\n",
    "    if regrid_bool:\n",
    "        # Get regridded dataframe\n",
    "        s1 = conv_pol_cart(scan1)\n",
    "        s2 = conv_pol_cart(scan2)\n",
    "    else:\n",
    "        # Slice up data by scan using slider inputs. Reset index required to match values\n",
    "        s1 = df_rs.iloc[scan1:scan1+30, :].reset_index(drop=True)\n",
    "        s2 = df_rs.iloc[scan2:scan2+30, :].reset_index(drop=True)\n",
    "    \n",
    "    # Subtract the mean to remove the pyramid, then divide by standard deviation (data normalization)\n",
    "    s1 = (s1 - np.mean(s1, axis=0))/np.std(s1, axis=0)\n",
    "    s2 = (s2 - np.mean(s2, axis=0))/np.std(s2, axis=0)\n",
    "    \n",
    "    #Scipy doesn't like NaNs\n",
    "    valid1 = ~np.isnan(s1.values).any(axis=0)\n",
    "    valid2 = ~np.isnan(s2.values).any(axis=0)\n",
    "    \n",
    "    scan1_val = s1.values[:, valid1]\n",
    "    scan2_val = s2.values[:, valid2]\n",
    "    \n",
    "    #print('Scan 1 shape: ' + str(scan1_val.shape))\n",
    "    #print('Scan 2 shape: ' + str(scan2_val.shape))\n",
    "    \n",
    "    corr = signal.correlate2d(scan1_val, scan2_val, boundary=boundary, mode=mode)\n",
    "    #Plot the 2d xcorr\n",
    "    \n",
    "    f = plt.figure(dpi=200) \n",
    "    plt.tight_layout(pad=0)\n",
    "    plt.imshow(corr, interpolation='bilinear', origin='lower')\n",
    "    \n",
    "    if regrid_bool:\n",
    "        plt.xlabel('X Coordinate')\n",
    "        plt.ylabel('Y Coordinate')\n",
    "    else:\n",
    "        plt.xlabel('Radial distance')\n",
    "        plt.ylabel('Azimuth angle')\n",
    "    \n",
    "    plt.title(title)\n",
    "    # Find the position where max correlation occurs and annotate\n",
    "    y, x = np.unravel_index(np.argmax(corr), corr.shape)\n",
    "    plt.annotate('+', (x, y))\n",
    "    # Get axis limits so we can denote actual center\n",
    "    y1, y2 = plt.gca().get_ylim()\n",
    "    x1, x2 = plt.gca().get_xlim()\n",
    "    c_x = (x1+x2)/2\n",
    "    c_y = (y1+y2)/2\n",
    "    plt.annotate('.', (c_x, c_y))\n",
    "    \n",
    "    plt.colorbar()\n",
    "    plt.clim(0,None)\n",
    "    plt.show()\n",
    "    \n",
    "    if plot_ppi_bool:\n",
    "\n",
    "        #Plot PPI images alongside\n",
    "        f = plt.figure()\n",
    "        plt.tight_layout()\n",
    "        plt.subplot(121)\n",
    "        im1 = plot_ppi(los_start=scan1)\n",
    "        plt.imshow(im1)\n",
    "        plt.axis('off')\n",
    "        plt.show()\n",
    "\n",
    "        plt.subplot(122)\n",
    "        plt.tight_layout()\n",
    "        im2 = plot_ppi(los_start=scan2)\n",
    "        plt.imshow(im2)\n",
    "        plt.axis('off')\n",
    "        plt.show()\n",
    "    \n",
    "    return scan1_val.shape, scan2_val.shape, (x,y)\n",
    "    #return scan1_val, scan2_val"
   ]
  },
  {
   "cell_type": "code",
   "execution_count": null,
   "metadata": {
    "code_folding": [
     0
    ],
    "collapsed": true,
    "hidden": true
   },
   "outputs": [],
   "source": [
    "# backup polar2cartesian\n",
    "def polar2cartesian(outcoords, inputshape, origin, angular_width=30):\n",
    "    # Modified from ptomato on stack overflow. Thanks!\n",
    "    xindex, yindex = outcoords\n",
    "    x0, y0 = origin\n",
    "    x = xindex - x0\n",
    "    y = yindex - y0\n",
    "\n",
    "    r = np.sqrt(x**2 + y**2)\n",
    "    theta = np.arctan2(y, x)\n",
    "    #theta_index = np.round((theta + np.pi) * inputshape[1] / (2 * np.pi))\n",
    "    # Allows us to define our transformation size if not a full PPI\n",
    "    theta_index = np.round((theta + np.pi) * inputshape[1] / (np.pi/(180/angular_width)))\n",
    "\n",
    "    return (r,theta_index)"
   ]
  },
  {
   "cell_type": "code",
   "execution_count": 11,
   "metadata": {
    "collapsed": true,
    "hidden": true
   },
   "outputs": [],
   "source": [
    "# Transform coordinate systems from polar to cartesian\n",
    "# Input is the starting line of sight number. Outputs regridded dataframe\n",
    "def conv_pol_cart(los_start=0, order=0):\n",
    "    if los_start % 30 != 0:\n",
    "        print('warning! los_start should be a multiple of 30')\n",
    "    df_polar = df_rs.iloc[los_start:los_start+30]\n",
    "    df_polar = df_polar.set_index(azims)\n",
    "\n",
    "    df_polar_cart = scipy.ndimage.geometric_transform(df_polar, polar2cartesian, \n",
    "    order=order,\n",
    "    output_shape = (df_polar.shape[0] * 2, df_polar.shape[0] * 2),\n",
    "    extra_keywords = {'inputshape':df_polar.shape,\n",
    "        'origin':(df_polar.shape[0], df_polar.shape[0])})\n",
    "    # Convert ndarray to pd dataframe\n",
    "    df_polar_cart = pd.DataFrame(df_polar_cart)\n",
    "    return df_polar_cart"
   ]
  },
  {
   "cell_type": "markdown",
   "metadata": {
    "heading_collapsed": true
   },
   "source": [
    "## Processing"
   ]
  },
  {
   "cell_type": "code",
   "execution_count": 74,
   "metadata": {
    "hidden": true
   },
   "outputs": [
    {
     "name": "stdout",
     "output_type": "stream",
     "text": [
      "Wall time: 43.7 s\n"
     ]
    }
   ],
   "source": [
    "%%time\n",
    "# Read in windscanner wind_data file\n",
    "df_ws = pd.read_csv('E:\\\\LASCAR\\\\sirocco\\\\merged_wind_all_scenarios\\\\processed\\\\20171114153902_PPI1_merged.txt', sep=';', header=None)"
   ]
  },
  {
   "cell_type": "code",
   "execution_count": 75,
   "metadata": {
    "collapsed": true,
    "hidden": true
   },
   "outputs": [],
   "source": [
    "# Rename azim and elevation columns\n",
    "df_ws = df_ws.rename(columns={5: 'dt_stop', 6: 'azim', 7: 'elev'})"
   ]
  },
  {
   "cell_type": "code",
   "execution_count": 76,
   "metadata": {
    "collapsed": true,
    "hidden": true
   },
   "outputs": [],
   "source": [
    "# Gets list of range gates to use for plotting radial distances\n",
    "range_gates = df_ws.iloc[0:1,8::4].values[0].tolist()"
   ]
  },
  {
   "cell_type": "code",
   "execution_count": 122,
   "metadata": {
    "collapsed": true,
    "hidden": true
   },
   "outputs": [],
   "source": [
    "# Loops through list of range gates. Applies CNR mask to set radspeed to NaN if CNR < -25\n",
    "for dist in range_gates:\n",
    "    rg = get_col_num(dist)\n",
    "    mask = df_ws[rg+2] < -25\n",
    "    df_ws.loc[mask, rg+1] = np.nan\n",
    "\n",
    "    mask = df_ws[rg+2] > 0\n",
    "    df_ws.loc[mask, rg+1] = np.nan"
   ]
  },
  {
   "cell_type": "code",
   "execution_count": 123,
   "metadata": {
    "collapsed": true,
    "hidden": true
   },
   "outputs": [],
   "source": [
    "# Loops through list of range gates. Applies RS mask to set radspeed to NaN if RS >= 0\n",
    "for dist in range_gates:\n",
    "    rg = get_col_num(dist)\n",
    "    mask = df_ws[rg+1] >= 0\n",
    "    df_ws.loc[mask, rg+1] = np.nan"
   ]
  },
  {
   "cell_type": "code",
   "execution_count": 124,
   "metadata": {
    "hidden": true
   },
   "outputs": [],
   "source": [
    "# Get list of azims for this scan for plotting azimuths\n",
    "# Round to 3 decimal places for floating point errors\n",
    "df = df_ws.iloc[0:30]\n",
    "azims = df['azim'].tolist()\n",
    "azims = np.round(azims, 3)"
   ]
  },
  {
   "cell_type": "code",
   "execution_count": 125,
   "metadata": {
    "collapsed": true,
    "hidden": true
   },
   "outputs": [],
   "source": [
    "# Take only the radial speed data\n",
    "# Apply absolute value to make them positive\n",
    "df_rs = df_ws[df_ws.columns[9::4]]\n",
    "df_rs = df_rs.abs()\n",
    "df_rs.columns = range_gates"
   ]
  },
  {
   "cell_type": "code",
   "execution_count": null,
   "metadata": {
    "hidden": true
   },
   "outputs": [],
   "source": []
  },
  {
   "cell_type": "raw",
   "metadata": {
    "hidden": true
   },
   "source": [
    "# Get timestamp of last row\n",
    "convtime(df['dt_stop'].iloc[-1]).strftime(\"%Y-%m-%d %H:%M:%S\")"
   ]
  },
  {
   "cell_type": "markdown",
   "metadata": {},
   "source": [
    "## Plotting"
   ]
  },
  {
   "cell_type": "code",
   "execution_count": 117,
   "metadata": {},
   "outputs": [],
   "source": [
    "# Chop up into scan by scan (30 lines for LASCAR)\n",
    "df = df_ws.iloc[0:30]"
   ]
  },
  {
   "cell_type": "code",
   "execution_count": 118,
   "metadata": {
    "collapsed": true
   },
   "outputs": [],
   "source": [
    "azimuths = np.radians(azims)\n",
    "zeniths = range_gates"
   ]
  },
  {
   "cell_type": "code",
   "execution_count": 119,
   "metadata": {
    "collapsed": true
   },
   "outputs": [],
   "source": [
    "r, theta = np.meshgrid(zeniths, azimuths)\n",
    "values = df[df.columns[9::4]]"
   ]
  },
  {
   "cell_type": "code",
   "execution_count": 127,
   "metadata": {
    "scrolled": false
   },
   "outputs": [
    {
     "data": {
      "text/plain": [
       "<matplotlib.image.AxesImage at 0xaf046dc780>"
      ]
     },
     "execution_count": 127,
     "metadata": {},
     "output_type": "execute_result"
    },
    {
     "data": {
      "image/png": "[encoded data removed]",
      "text/plain": [
       "<matplotlib.figure.Figure at 0xaf079b6e80>"
      ]
     },
     "metadata": {},
     "output_type": "display_data"
    }
   ],
   "source": [
    "im = plot_ppi(los_start=0)\n",
    "#im = crop_image(im)\n",
    "plt.imshow(im)"
   ]
  },
  {
   "cell_type": "markdown",
   "metadata": {
    "heading_collapsed": true
   },
   "source": [
    "## Batch plot PPIs and save"
   ]
  },
  {
   "cell_type": "code",
   "execution_count": null,
   "metadata": {
    "collapsed": true,
    "hidden": true
   },
   "outputs": [],
   "source": [
    "minscale = -20\n",
    "maxscale = 20\n",
    "scalestep = 1\n",
    "\n",
    "azim_low = azims[0]\n",
    "azim_high = azims[-1]"
   ]
  },
  {
   "cell_type": "code",
   "execution_count": null,
   "metadata": {
    "collapsed": true,
    "hidden": true,
    "scrolled": false
   },
   "outputs": [],
   "source": [
    "%%time\n",
    "# Loop through and plot all scans\n",
    "zeniths = range_gates\n",
    "scannum = 0\n",
    "\n",
    "for i in range(0,len(df_ws),30):\n",
    "    df = df_ws.iloc[i:i+30]\n",
    "    azims = df['azim'].tolist()\n",
    "    \n",
    "    azimuths = np.radians(azims)\n",
    "    \n",
    "    r, theta = np.meshgrid(zeniths, azimuths)\n",
    "    values = df[df.columns[9::4]]\n",
    "    \n",
    "    timestamp = convtime(df['dt_stop'].iloc[-1]).strftime(\"%Y-%m-%d %H:%M:%S\")\n",
    "    filename = convtime(df['dt_stop'].iloc[-1]).strftime(\"%Y-%m-%d-%H-%M-%S\")\n",
    "        \n",
    "    plt.figure(figsize=(7, 7))  # Size\n",
    "    ax = plt.subplot(111, polar=True)  # Create subplot\n",
    "\n",
    "    pp = plt.contourf(theta, r, values, vmin=minscale, vmax=maxscale, cmap='seismic', levels=np.arange(minscale,maxscale,scalestep))\n",
    "    \n",
    "    ax.set_theta_zero_location(\"N\")\n",
    "    cbar = plt.colorbar(pp, orientation='vertical')\n",
    "    cbar.ax.set_ylabel('radial speed (m/s)')\n",
    "    plt.grid(color='#888888')\n",
    "    ax.set_theta_direction(-1)\n",
    "    ax.set_thetamin(azim_low)\n",
    "    ax.set_thetamax(azim_high)\n",
    "    #ax.set_xticklabels(['N', 'NE', 'E', 'SE', 'S', 'SW', 'W', 'NW'], color='#666666', fontsize=8)\n",
    "    ax.set_xticklabels(['','','','','W'], color='#666666', fontsize=8)\n",
    "    ax.spines['polar'].set_visible(False)\n",
    "\n",
    "    plt.suptitle(timestamp + ' UTC' + '\\n \\n LASCAR Campaign, DTU-RISØ \\n ellsim@dtu.dk', fontsize=12)\n",
    "    \n",
    "    plt.savefig('.\\\\plots\\\\ppi_plots\\\\20171030194350_PPI1_merged\\\\ppi_plot_filt_'+str(scannum)+'_'+str(filename)+'.png')\n",
    "    \n",
    "    plt.close('all')\n",
    "    \n",
    "    scannum += 1"
   ]
  },
  {
   "cell_type": "code",
   "execution_count": null,
   "metadata": {
    "collapsed": true,
    "hidden": true
   },
   "outputs": [],
   "source": [
    "'E:\\\\LASCAR\\\\sirocco\\\\merged_wind_all_scenarios\\\\20171030194350_PPI1_merged.txt'.split('.')[-2].split('\\\\')[-1]"
   ]
  },
  {
   "cell_type": "markdown",
   "metadata": {
    "heading_collapsed": true
   },
   "source": [
    "## 2D Cross Corr"
   ]
  },
  {
   "cell_type": "code",
   "execution_count": null,
   "metadata": {
    "hidden": true,
    "scrolled": false
   },
   "outputs": [],
   "source": [
    "# Plot heatmap of all data\n",
    "C = np.ma.masked_where(np.isnan(df_rs.transpose()),df_rs.transpose())\n",
    "im = plt.pcolormesh(C, vmin=-20, vmax=20, cmap='seismic')"
   ]
  },
  {
   "cell_type": "code",
   "execution_count": null,
   "metadata": {
    "collapsed": true,
    "hidden": true
   },
   "outputs": [],
   "source": [
    "corr = signal.correlate2d(df_rs.values[0:30], df_rs.values[30:60])"
   ]
  },
  {
   "cell_type": "code",
   "execution_count": null,
   "metadata": {
    "collapsed": true,
    "hidden": true
   },
   "outputs": [],
   "source": [
    "#Find max \n",
    "y, x = np.unravel_index(np.argmax(corr), corr.shape)"
   ]
  },
  {
   "cell_type": "code",
   "execution_count": null,
   "metadata": {
    "collapsed": true,
    "hidden": true
   },
   "outputs": [],
   "source": [
    "print(x,y)"
   ]
  },
  {
   "cell_type": "code",
   "execution_count": null,
   "metadata": {
    "collapsed": true,
    "hidden": true,
    "scrolled": false
   },
   "outputs": [],
   "source": []
  },
  {
   "cell_type": "markdown",
   "metadata": {},
   "source": [
    "## Interactive 2D corr"
   ]
  },
  {
   "cell_type": "code",
   "execution_count": 64,
   "metadata": {
    "scrolled": false
   },
   "outputs": [
    {
     "data": {
      "application/vnd.jupyter.widget-view+json": {
       "model_id": "33cb5f03fcfb466aae69a9115ea78255"
      }
     },
     "metadata": {},
     "output_type": "display_data"
    }
   ],
   "source": [
    "# Run widget\n",
    "max_los = len(df_rs)-30\n",
    "interact(plot_2d_xcorr, \n",
    "         scan1=IntSlider(value=0, min=0, max=max_los, step=30), \n",
    "         scan2=IntSlider(value=30, min=0, max=max_los, step=30), \n",
    "         boundary = Dropdown(options=['symm', 'fill', 'wrap'], value='symm', description='Boundary:'),\n",
    "         mode = Dropdown(options=['same', 'full', 'valid'], value='same', description='Mode:'),\n",
    "         plot_ppi_bool = Checkbox(value=False, description='Plot PPIs alongside?'),\n",
    "         regrid_bool = Checkbox(value=True, description='Regrid?'),\n",
    "         title='2D Cross Correlation');"
   ]
  },
  {
   "cell_type": "code",
   "execution_count": null,
   "metadata": {
    "code_folding": [],
    "collapsed": true
   },
   "outputs": [],
   "source": [
    "s1,s2 = plot_2d_xcorr(0,30,boundary='symm', mode='same', plot_ppi_bool=False, title='PPI', regrid_bool=True);"
   ]
  },
  {
   "cell_type": "code",
   "execution_count": null,
   "metadata": {
    "collapsed": true
   },
   "outputs": [],
   "source": []
  },
  {
   "cell_type": "code",
   "execution_count": null,
   "metadata": {
    "collapsed": true
   },
   "outputs": [],
   "source": []
  },
  {
   "cell_type": "code",
   "execution_count": null,
   "metadata": {
    "collapsed": true
   },
   "outputs": [],
   "source": []
  },
  {
   "cell_type": "code",
   "execution_count": null,
   "metadata": {
    "code_folding": [],
    "collapsed": true
   },
   "outputs": [],
   "source": []
  },
  {
   "cell_type": "code",
   "execution_count": null,
   "metadata": {
    "collapsed": true
   },
   "outputs": [],
   "source": []
  },
  {
   "cell_type": "markdown",
   "metadata": {
    "collapsed": true
   },
   "source": [
    "## Reproject Polar to Cartesian"
   ]
  },
  {
   "cell_type": "code",
   "execution_count": 146,
   "metadata": {},
   "outputs": [
    {
     "data": {
      "application/vnd.jupyter.widget-view+json": {
       "model_id": "487ee8fadcc643db97b72f05a2ccde78"
      }
     },
     "metadata": {},
     "output_type": "display_data"
    }
   ],
   "source": [
    "# Widget to display re-gridded PPI\n",
    "max_los = len(df_rs)-30\n",
    "interact(conv_pol_cart_image, \n",
    "         los_start=IntSlider(value=0, min=0, max=max_los, step=30), \n",
    "         order=IntSlider(value=0, min=0, max=1, step=1),\n",
    "         cmap=Dropdown(value='hot_r', options=['hot_r', 'jet', 'seismic_r']),\n",
    "         vmin=IntSlider(value=0, min=-30, max=30, step=1),\n",
    "         vmax=IntSlider(value=15, min=-30, max=30, step=1),\n",
    "        );"
   ]
  },
  {
   "cell_type": "code",
   "execution_count": null,
   "metadata": {
    "collapsed": true
   },
   "outputs": [],
   "source": []
  },
  {
   "cell_type": "code",
   "execution_count": 116,
   "metadata": {
    "collapsed": true
   },
   "outputs": [],
   "source": [
    "\n",
    "def polar2cartesian(outcoords, inputshape, origin, angular_width=30):\n",
    "    # Modified from ptomato on stack overflow. Thanks!\n",
    "    xindex, yindex = outcoords\n",
    "    x0, y0 = origin\n",
    "    x = xindex - x0\n",
    "    y = yindex - y0\n",
    "\n",
    "    r = np.sqrt(x**2 + y**2)\n",
    "    theta = np.arctan2(y, x)\n",
    "    #theta_index = np.round((theta + np.pi) * inputshape[1] / (2 * np.pi))\n",
    "    # Allows us to define our transformation size if not a full PPI\n",
    "    theta_index = np.round((theta + np.pi) * inputshape[1] / (np.pi/(180/angular_width)))\n",
    "\n",
    "    return (r,theta_index)"
   ]
  },
  {
   "cell_type": "code",
   "execution_count": 158,
   "metadata": {
    "collapsed": true
   },
   "outputs": [],
   "source": [
    "# Transform coordinate systems from polar to cartesian and plot image\n",
    "# Input is the starting line of sight number. Outputs is an image, and re-gridded data is returned\n",
    "def conv_pol_cart_image(los_start=0, order=0, title='PPI', cmap='hot_r', vmin=0, vmax=15):\n",
    "    if los_start % 30 != 0:\n",
    "        print('warning! los_start should be a multiple of 30')\n",
    "\n",
    "    df_polar = df_rs.iloc[los_start:los_start+30]\n",
    "    df_polar = df_polar.set_index(azims)\n",
    "\n",
    "    df_polar_cart = scipy.ndimage.geometric_transform(df_polar, polar2cartesian, \n",
    "    order=order,\n",
    "    output_shape = (df_polar.shape[0] * 2, df_polar.shape[0] * 2),\n",
    "    extra_keywords = {'inputshape':df_polar.shape,\n",
    "        'origin':(df_polar.shape[0], df_polar.shape[0])})\n",
    "    \n",
    "    # Rotate our dataframe so that it's the right way around\n",
    "    #df_polar_cart = df_polar_cart.T\n",
    "    #df_polar_cart = rotate(df_polar_cart, 60)\n",
    "    \n",
    "    # Convert ndarray to pd dataframe\n",
    "    df_polar_cart = pd.DataFrame(df_polar_cart)\n",
    "    \n",
    "    f = plt.figure()\n",
    "    plt.title(title)\n",
    "    plt.imshow(df_polar_cart, cmap=cmap, vmin=vmin, vmax=vmax, interpolation='bilinear')\n",
    "    plt.colorbar()\n",
    "    plt.show()\n",
    "    return df_polar_cart"
   ]
  },
  {
   "cell_type": "code",
   "execution_count": 96,
   "metadata": {
    "collapsed": true
   },
   "outputs": [],
   "source": []
  },
  {
   "cell_type": "code",
   "execution_count": 167,
   "metadata": {},
   "outputs": [
    {
     "data": {
      "image/png": "[encoded data removed]",
      "text/plain": [
       "<matplotlib.figure.Figure at 0xaf05019278>"
      ]
     },
     "metadata": {},
     "output_type": "display_data"
    }
   ],
   "source": [
    "df_cart = conv_pol_cart_image(600)"
   ]
  },
  {
   "cell_type": "code",
   "execution_count": null,
   "metadata": {},
   "outputs": [],
   "source": []
  }
 ],
 "metadata": {
  "kernelspec": {
   "display_name": "Python 3",
   "language": "python",
   "name": "python3"
  },
  "language_info": {
   "codemirror_mode": {
    "name": "ipython",
    "version": 3
   },
   "file_extension": ".py",
   "mimetype": "text/x-python",
   "name": "python",
   "nbconvert_exporter": "python",
   "pygments_lexer": "ipython3",
   "version": "3.6.1"
  }
 },
 "nbformat": 4,
 "nbformat_minor": 2
}
